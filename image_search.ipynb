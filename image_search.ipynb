{
 "cells": [
  {
   "cell_type": "code",
   "execution_count": 102,
   "metadata": {},
   "outputs": [
    {
     "data": {
      "text/plain": [
       "True"
      ]
     },
     "execution_count": 102,
     "metadata": {},
     "output_type": "execute_result"
    }
   ],
   "source": [
    "import numpy as np\n",
    "import os\n",
    "import cv2\n",
    "import matplotlib.pyplot as plt\n",
    "import pandas as pd\n",
    "import pickle\n",
    "import tensorflow as tf\n",
    "\n",
    "from tqdm import tqdm_notebook\n",
    "from scipy.spatial.distance import hamming, cosine, euclidean\n",
    "\n",
    "%matplotlib inline\n",
    "tf.executing_eagerly()\n"
   ]
  },
  {
   "cell_type": "code",
   "execution_count": 2,
   "metadata": {},
   "outputs": [],
   "source": [
    "def image_load(path, image_size):\n",
    "    \"\"\"\n",
    "    Load image\n",
    "\n",
    "    :param path: String, path to image\n",
    "    :image_size: tuple, size of output image\n",
    "    \"\"\"\n",
    "    \n",
    "    image = cv2.imread(path)\n",
    "    image = cv2.cvtColor(image, cv2.COLOR_BGR2RGB)\n",
    "    image = cv2.resize(image, image_size, cv2.INTER_CUBIC)\n",
    "    return image"
   ]
  },
  {
   "cell_type": "code",
   "execution_count": 81,
   "metadata": {},
   "outputs": [],
   "source": [
    "def data_preprocessing(data_path, labels_path, image_size, image_path_pickle):\n",
    "    \"\"\"\n",
    "    Load image and labels\n",
    "\n",
    "    :param data_path: String, path to train and test data\n",
    "    :param labels_path: String, path to label\n",
    "    :param image_size: tuple, single imaze size\n",
    "    :param image_path_pickle: String, name of a pickle file where all image will be saved\n",
    "    \"\"\"\n",
    "    with open(labels_path) as f:\n",
    "        classes = f.read().split(\"\\n\")[: -1]\n",
    "\n",
    "    images = []\n",
    "    labels = []\n",
    "    # path to pickle\n",
    "    image_paths = []\n",
    "    \n",
    "    for image_name in os.listdir(data_path):\n",
    "        try:\n",
    "\n",
    "                # create full path to train data\n",
    "                image_path = os.path.join(data_path, image_name)\n",
    "                images.append(image_load(image_path, image_size))\n",
    "                image_paths.append(image_path)\n",
    "                for idx in range(len(classes)):\n",
    "                    if classes[idx] in image_name:\n",
    "                        labels.append(idx)\n",
    "        except:\n",
    "                pass\n",
    "    \n",
    "    with open(image_path_pickle + \".pickle\", \"wb\") as f:\n",
    "        pickle.dump(image_paths, f)\n",
    "\n",
    "    assert len(images) == len(labels)\n",
    "    return np.array(images, dtype=\"float32\"), np.array(labels, dtype=\"float32\")"
   ]
  },
  {
   "cell_type": "code",
   "execution_count": 82,
   "metadata": {},
   "outputs": [],
   "source": [
    "images, labels = data_preprocessing(\"dataset/train\", \"dataset/labels.txt\", (32, 32), \"training_image_pickle\")"
   ]
  },
  {
   "cell_type": "code",
   "execution_count": 83,
   "metadata": {},
   "outputs": [
    {
     "data": {
      "text/plain": [
       "((50000, 32, 32, 3), (50000,))"
      ]
     },
     "execution_count": 83,
     "metadata": {},
     "output_type": "execute_result"
    }
   ],
   "source": [
    "images.shape, labels.shape"
   ]
  },
  {
   "cell_type": "code",
   "execution_count": 84,
   "metadata": {},
   "outputs": [],
   "source": [
    "def cosine_distance(training_set_vector, query_vector, top_n=50):\n",
    "    \"\"\"\n",
    "    calculate cosine distance between query image and all trianing set image\n",
    "    \n",
    "    :param training_set_vector: numpy Matrix, vectors for all images in training set\n",
    "    :param query_vector: numpy vector, query image(new image)\n",
    "    :param top_n: interger, number of closest image to return\n",
    "    \"\"\"\n",
    "    \n",
    "    distances = []\n",
    "    \n",
    "    for i in range(len(training_set_vector)): # for train dataset 50k image\n",
    "        distance.append(cosine(training_set_vector[i], query_vector[0]))\n",
    "    \n",
    "    return np.argsort(distance)[:top_n]\n",
    "        "
   ]
  },
  {
   "cell_type": "code",
   "execution_count": 85,
   "metadata": {},
   "outputs": [],
   "source": [
    "def hamming_distance(training_set_vector, query_vector, top_n=50):\n",
    "    \"\"\"\n",
    "    calculate haming distance between query image and all training images\n",
    "    \n",
    "    :param training_set_vector: numpy Matrix, vectors for all images in training set\n",
    "    :param query_vector: numpy vector, query image(new image)\n",
    "    :param top_n: interger, number of closest image to return\n",
    "    \"\"\"\n",
    "    \n",
    "    distance = []\n",
    "    \n",
    "    for i in range(len(training_set_vector)):\n",
    "        distance.append(hamming(training_set_vector[i], query_vector[0]))\n",
    "    \n",
    "    return np.argsort(distance)[:top_n]"
   ]
  },
  {
   "cell_type": "code",
   "execution_count": 86,
   "metadata": {},
   "outputs": [],
   "source": [
    "def cal_accuracy(y_true, y_pred):\n",
    "    \"\"\"\n",
    "    calculate accuracy of model on softmax outputs\n",
    "    \n",
    "    :param y_true: numpy array, true labels of each sample\n",
    "    :param y_pred: numpy matrix, softmax probabilities\n",
    "    \"\"\"\n",
    "    \n",
    "    assert len(y_true) == len(y_pred)\n",
    "    \n",
    "    correct = 0\n",
    "    \n",
    "    for i in range(len(y_true)):\n",
    "        if np.argmax(y_pred[i]) == y_true[i]:\n",
    "                correct += 1\n",
    "    \n",
    "    return correct / len(y_true)"
   ]
  },
  {
   "cell_type": "code",
   "execution_count": 87,
   "metadata": {},
   "outputs": [],
   "source": [
    "class Conv(tf.keras.layers.Layer):\n",
    "    \n",
    "    def __init__(self, number_of_filter, kernel_size, stride=(1, 1),\n",
    "                padding=\"SAME\", activation=\"tf.nn.relu\",\n",
    "                max_pool=True, batch_norm=True):\n",
    "        \n",
    "        \"\"\"\n",
    "        define convolutional block layer\n",
    "\n",
    "        :param number_of_filter: interger, number of filter\n",
    "        :param kernel_size: tuple, size of conv layer kernel\n",
    "        :param padding: String, type of padding SAME or VALID\n",
    "        :param activation: tf.object, activation functuin used on the layer\n",
    "        :param max_pool: boolean, true conv layer use max pooling\n",
    "        :param batch_norm: boolean, true conv layer use batch normalization\n",
    "        \"\"\"\n",
    "\n",
    "        super(Conv, self).__init__()\n",
    "\n",
    "        self.conv_layer = tf.keras.layers.Conv2D(filters=number_of_filter,\n",
    "                                                                                    kernel_size=kernel_size,\n",
    "                                                                                    strides=stride,\n",
    "                                                                                    padding=padding,\n",
    "                                                                                    activation=activation)\n",
    "\n",
    "        self.max_pool = max_pool\n",
    "        if max_pool:\n",
    "            self.max_pool_layer = tf.keras.layers.MaxPooling2D(pool_size=(2, 2),\n",
    "                                                                                                  strides=(2, 2),\n",
    "                                                                                                  padding=\"SAME\")\n",
    "\n",
    "        self.batch_norm = batch_norm\n",
    "        if batch_norm:\n",
    "            self.batch_norm_layer = tf.keras.layers.BatchNormalization()\n",
    "\n",
    "    def call(self, inputs, training):\n",
    "        conv_features = x = self.conv_layer(inputs)\n",
    "        if self.max_pool:\n",
    "            x = self.max_pool_layer(x)\n",
    "        if self.batch_norm:\n",
    "            x = self.batch_norm_layer(x, training)\n",
    "        \n",
    "        return x, conv_features"
   ]
  },
  {
   "cell_type": "code",
   "execution_count": 88,
   "metadata": {},
   "outputs": [],
   "source": [
    "class Dense(tf.keras.layers.Layer):\n",
    "    def __init__(self, units, activation=tf.nn.relu, dropout=None, batch_norm=True):\n",
    "        \"\"\"\n",
    "        define Dense layer\n",
    "        \n",
    "        :param units: interger, number of neurons\n",
    "        :param activation: tf.object, activation functuin used on the layer\n",
    "        :param dropout: dropout rate\n",
    "        :param batch_norm: boolean, true conv layer use batch normalization\n",
    "        \"\"\"\n",
    "        \n",
    "        super(Dense, self).__init__()\n",
    "        \n",
    "        self.dense_layer = tf.keras.layers.Dense(units, activation=activation)\n",
    "        \n",
    "        self.dropout = dropout\n",
    "        if dropout is not None:\n",
    "            self.dropout_layer = tf.keras.layers.Dropout(dropout)\n",
    "        \n",
    "        self.batch_norm = batch_norm\n",
    "        if batch_norm:\n",
    "            self.batch_norm_layer = tf.keras.layers.BatchNormalization()\n",
    "    \n",
    "    def call(self, inputs, training):\n",
    "        dense_feature = x = self.dense_layer(inputs)\n",
    "        if self.dropout is not None:\n",
    "            x = self.dropout_layer(x, training)\n",
    "        if self.batch_norm:\n",
    "            x = self.batch_norm_layer(x, training)\n",
    "        return x, dense_feature"
   ]
  },
  {
   "cell_type": "code",
   "execution_count": 11,
   "metadata": {},
   "outputs": [],
   "source": [
    "class BuildModel(tf.keras.Model):\n",
    "    \n",
    "    def __init__(self, dropout, image_size, number_of_calsses=10):\n",
    "        \"\"\"\n",
    "        Build a model for image search\n",
    "        \n",
    "       :param dropout: dropout rate\n",
    "       :param image_size: tuple, (height, width)\n",
    "       :param number_of_calsses: integer, number of classes\n",
    "       \"\"\"\n",
    "        \n",
    "        super(BuildModel, self).__init__()\n",
    "        \n",
    "        self.batch_normalize_layer = tf.keras.layers.BatchNormalization()\n",
    "        \n",
    "        self.conv_1 = Conv(number_of_filter=64,\n",
    "                                        kernel_size=(3, 3),\n",
    "                                        stride=(1, 1),\n",
    "                                        padding=\"SAME\",\n",
    "                                        activation=tf.nn.relu,\n",
    "                                        max_pool=True,\n",
    "                                        batch_norm=True)\n",
    "        \n",
    "        self.conv_2 = Conv(number_of_filter=128,\n",
    "                                        kernel_size=(3, 3),\n",
    "                                        stride=(1, 1),\n",
    "                                        padding=\"SAME\",\n",
    "                                        activation=tf.nn.relu,\n",
    "                                        max_pool=True,\n",
    "                                        batch_norm=True)\n",
    "        \n",
    "        self.conv_3 = Conv(number_of_filter=256,\n",
    "                                        kernel_size=(5, 5),\n",
    "                                        stride=(1, 1),\n",
    "                                        padding=\"SAME\",\n",
    "                                        activation=tf.nn.relu,\n",
    "                                        max_pool=True,\n",
    "                                        batch_norm=True)\n",
    "        \n",
    "        self.conv_4 = Conv(number_of_filter=512,\n",
    "                                        kernel_size=(5, 5),\n",
    "                                        stride=(1, 1),\n",
    "                                        padding=\"SAME\",\n",
    "                                        activation=tf.nn.relu,\n",
    "                                        max_pool=True,\n",
    "                                        batch_norm=True)\n",
    "\n",
    "        self.flatten_layer = tf.keras.layers.Flatten()\n",
    "        \n",
    "        self.dense_1 = Dense(units=128,\n",
    "                                            activation=tf.nn.relu,\n",
    "                                            dropout=dropout,\n",
    "                                            batch_norm=True)\n",
    "\n",
    "        self.dense_2 = Dense(units=256,\n",
    "                                            activation=tf.nn.relu,\n",
    "                                            dropout=dropout,\n",
    "                                            batch_norm=True)\n",
    "\n",
    "        self.dense_3 = Dense(units=512,\n",
    "                                            activation=tf.nn.relu,\n",
    "                                            dropout=dropout,\n",
    "                                            batch_norm=True)\n",
    "\n",
    "        self.dense_4 = Dense(units=1024,\n",
    "                                            activation=tf.nn.relu,\n",
    "                                            dropout=dropout,\n",
    "                                            batch_norm=True)\n",
    "        \n",
    "        self.final_dense = tf.keras.layers.Dense(units=number_of_calsses,\n",
    "                                                                        activation=None)\n",
    "        \n",
    "        self.final_siftmax = tf.keras.layers.Softmax()\n",
    "    \n",
    "    def call(self, inputs, training):\n",
    "        x = self.batch_normalize_layer(inputs, training)\n",
    "        x, conv1 = self.conv_1(x, training)\n",
    "        x, conv2 = self.conv_2(x, training)\n",
    "        x, conv3 = self.conv_3(x, training)\n",
    "        x, conv4 = self.conv_4(x, training)\n",
    "        \n",
    "        x = self.flatten_layer(x)\n",
    "        \n",
    "        x, dense1 = self.dense_1(x, training)\n",
    "        x, dense2 = self.dense_2(x, training)\n",
    "        x, dense3 = self.dense_3(x, training)\n",
    "        x, dense4 = self.dense_4(x, training)\n",
    "        \n",
    "        x = self.final_dense(x)\n",
    "        output = self.final_siftmax(x)\n",
    "        \n",
    "        return output, dense2, dense4"
   ]
  },
  {
   "cell_type": "code",
   "execution_count": 47,
   "metadata": {},
   "outputs": [],
   "source": [
    "model = BuildModel(0.5, (32, 32), 10)"
   ]
  },
  {
   "cell_type": "code",
   "execution_count": 55,
   "metadata": {},
   "outputs": [],
   "source": [
    "def train(model, epochs, batch_size, learning_rate,\n",
    "                dataset, dir_save, saver_delta=0.15, patience=2):\n",
    "    \"\"\"\n",
    "    Train model\n",
    "    \n",
    "    :param model: CNN model\n",
    "    :param epochs: interger, number of epochs\n",
    "    :params batch_size: interger, number of batch\n",
    "    :param laerning_rate: float, number of learning rate\n",
    "    :param dataset: tuple, train and test dataset\n",
    "    :param dir_save: String, path to a folder where model checkpoint will be saved\n",
    "    :param saver_delta: float, used to prevent overfitted model to be saved\n",
    "    :param patience: float, used for early stopping\n",
    "    \"\"\"\n",
    "    \n",
    "    #Call dummy predict to instantiate\n",
    "    model.predict(x=np.random.randn(1, 32, 32, 3).astype('float32'))\n",
    "    \n",
    "    X_train, y_train, X_val, y_val = dataset\n",
    "    \n",
    "    best_accuracy = 0\n",
    "\n",
    "    optimizer = tf.keras.optimizers.Adam(lr=learning_rate)\n",
    "    loss_func =  tf.keras.losses.SparseCategoricalCrossentropy()\n",
    "    \n",
    "    epoch_val_accuracy = []\n",
    "    counter = 0\n",
    "    \n",
    "    for epoch in range(epochs):\n",
    "        \n",
    "        train_acc = []\n",
    "        train_loss = []\n",
    "        \n",
    "        for i in tqdm_notebook(range(len(X_train) // batch_size)):\n",
    "            \n",
    "            start_id = i * batch_size\n",
    "            end_id = start_id + batch_size\n",
    "            \n",
    "            x_batch = X_train[start_id: end_id]\n",
    "            y_batch = y_train[start_id: end_id]\n",
    "            \n",
    "            with tf.GradientTape() as tape:\n",
    "                probs, _, _ = model(x_batch, training=True)\n",
    "                loss_value = loss_func(y_batch, probs)\n",
    "            \n",
    "            grads = tape.gradient(loss_value, model.trainable_weights)\n",
    "            optimizer.apply_gradients(zip(grads, model.trainable_weights))\n",
    "            \n",
    "            train_acc.append(cal_accuracy(y_batch, probs))\n",
    "            train_loss.append(loss_value)\n",
    "                    \n",
    "        test_acc = []\n",
    "        \n",
    "        for i in tqdm_notebook(range(len(X_val) // batch_size)):\n",
    "            start_id = i * batch_size\n",
    "            end_id = start_id + batch_size\n",
    "\n",
    "            x_val_batch = X_val[start_id: end_id]\n",
    "            y_val_batch = y_val[start_id: end_id]\n",
    "            \n",
    "            val_prob, _, _ = model(x_val_batch, training=False)\n",
    "            \n",
    "            test_acc.append(cal_accuracy(y_val_batch, val_prob))\n",
    "            \n",
    "        print(\"Epochs %s\" % epoch)\n",
    "        print(\"train acc {}\".format(np.mean(train_acc)))\n",
    "        \n",
    "        mean_val_acc = np.mean(test_acc)\n",
    "        print(\"val acc {}\".format(mean_val_acc))\n",
    "        \n",
    "        epoch_val_accuracy.append(mean_val_acc)\n",
    "        \n",
    "        if mean_val_acc <= best_accuracy:\n",
    "            counter += 1\n",
    "            if counter >= patience:\n",
    "                print(\"Early stopping\")\n",
    "                return\n",
    "        \n",
    "        else:\n",
    "            counter = 0\n",
    "            best_accuracy = mean_val_acc\n",
    "        \n",
    "        if np.mean(train_acc) > np.mean(test_acc): # prevent underfitting\n",
    "            if np.abs(np.mean(train_acc) - np.mean(test_acc)) <= saver_delta: # prevent overfitting\n",
    "                if np.mean(test_acc) >= best_accuracy:\n",
    "                    best_accuracy = np.mean(test_acc)\n",
    "                    model.save(os.path.join(dir_save, f\"model_epoch_{epoch+1}\"), save_format='tf')"
   ]
  },
  {
   "cell_type": "markdown",
   "metadata": {},
   "source": [
    "**define hyperparameter**"
   ]
  },
  {
   "cell_type": "code",
   "execution_count": 56,
   "metadata": {},
   "outputs": [],
   "source": [
    "epochs = 2\n",
    "batch_size = 256\n",
    "learning_rate = 0.01\n",
    "dropout_rate = 0.5\n",
    "image_size = (32, 32)"
   ]
  },
  {
   "cell_type": "code",
   "execution_count": 89,
   "metadata": {},
   "outputs": [],
   "source": [
    "# load train set\n",
    "X_train, y_train = data_preprocessing(\"dataset/train\", \"dataset/labels.txt\", image_size=image_size, image_path_pickle=\"train_image_pickls\")"
   ]
  },
  {
   "cell_type": "code",
   "execution_count": 90,
   "metadata": {},
   "outputs": [
    {
     "data": {
      "text/plain": [
       "((50000, 32, 32, 3), (50000,))"
      ]
     },
     "execution_count": 90,
     "metadata": {},
     "output_type": "execute_result"
    }
   ],
   "source": [
    "X_train.shape, y_train.shape"
   ]
  },
  {
   "cell_type": "code",
   "execution_count": 91,
   "metadata": {},
   "outputs": [],
   "source": [
    "# load validation set\n",
    "X_val, y_val = data_preprocessing(\"dataset/test\", \"dataset/labels.txt\", image_size=image_size, image_path_pickle=\"test_image_pickls\")"
   ]
  },
  {
   "cell_type": "code",
   "execution_count": 20,
   "metadata": {},
   "outputs": [
    {
     "data": {
      "text/plain": [
       "((10000, 32, 32, 3), (10000,))"
      ]
     },
     "execution_count": 20,
     "metadata": {},
     "output_type": "execute_result"
    }
   ],
   "source": [
    "X_val.shape, y_val.shape"
   ]
  },
  {
   "cell_type": "code",
   "execution_count": 57,
   "metadata": {},
   "outputs": [],
   "source": [
    "# define model\n",
    "model = BuildModel(dropout_rate, image_size)"
   ]
  },
  {
   "cell_type": "code",
   "execution_count": 43,
   "metadata": {},
   "outputs": [],
   "source": [
    "dataset = (X_train, y_train, X_val, y_val)"
   ]
  },
  {
   "cell_type": "code",
   "execution_count": 58,
   "metadata": {
    "scrolled": true
   },
   "outputs": [
    {
     "data": {
      "application/vnd.jupyter.widget-view+json": {
       "model_id": "9434f719dc2144719abfa371e441f9a7",
       "version_major": 2,
       "version_minor": 0
      },
      "text/plain": [
       "HBox(children=(IntProgress(value=0, max=195), HTML(value='')))"
      ]
     },
     "metadata": {},
     "output_type": "display_data"
    },
    {
     "name": "stdout",
     "output_type": "stream",
     "text": [
      "\n"
     ]
    },
    {
     "data": {
      "application/vnd.jupyter.widget-view+json": {
       "model_id": "e5ed8f11b22042659c4c9f739b9a2134",
       "version_major": 2,
       "version_minor": 0
      },
      "text/plain": [
       "HBox(children=(IntProgress(value=0, max=39), HTML(value='')))"
      ]
     },
     "metadata": {},
     "output_type": "display_data"
    },
    {
     "name": "stdout",
     "output_type": "stream",
     "text": [
      "\n",
      "Epochs 0\n",
      "train acc 0.26390224358974357\n",
      "val acc 0.29407051282051283\n"
     ]
    },
    {
     "data": {
      "application/vnd.jupyter.widget-view+json": {
       "model_id": "98c04f3e717c445d9f77543a1b1f12d9",
       "version_major": 2,
       "version_minor": 0
      },
      "text/plain": [
       "HBox(children=(IntProgress(value=0, max=195), HTML(value='')))"
      ]
     },
     "metadata": {},
     "output_type": "display_data"
    },
    {
     "name": "stdout",
     "output_type": "stream",
     "text": [
      "\n"
     ]
    },
    {
     "data": {
      "application/vnd.jupyter.widget-view+json": {
       "model_id": "685eb03a67634725a8faae5faa01c7be",
       "version_major": 2,
       "version_minor": 0
      },
      "text/plain": [
       "HBox(children=(IntProgress(value=0, max=39), HTML(value='')))"
      ]
     },
     "metadata": {},
     "output_type": "display_data"
    },
    {
     "name": "stdout",
     "output_type": "stream",
     "text": [
      "\n",
      "Epochs 1\n",
      "train acc 0.3773036858974359\n",
      "val acc 0.374599358974359\n"
     ]
    },
    {
     "name": "stderr",
     "output_type": "stream",
     "text": [
      "WARNING: Logging before flag parsing goes to stderr.\n",
      "W0124 18:34:55.749768 140735587754880 deprecation.py:506] From /Users/miyamotoatsushi/anaconda3/lib/python3.7/site-packages/tensorflow_core/python/ops/resource_variable_ops.py:1786: calling BaseResourceVariable.__init__ (from tensorflow.python.ops.resource_variable_ops) with constraint is deprecated and will be removed in a future version.\n",
      "Instructions for updating:\n",
      "If using Keras pass *_constraint arguments to layers.\n"
     ]
    }
   ],
   "source": [
    "train(model=model, epochs=epochs, batch_size=batch_size, learning_rate=learning_rate, dataset=dataset, dir_save=\"saver\")"
   ]
  },
  {
   "cell_type": "markdown",
   "metadata": {},
   "source": [
    "**create train set vector**\n"
   ]
  },
  {
   "cell_type": "code",
   "execution_count": 92,
   "metadata": {},
   "outputs": [],
   "source": [
    "def create_train_vector(model, X_train, y_train, batch_size, image_size, distance=\"hamming\"):\n",
    "    \"\"\"\n",
    "    Create training set vector and save them in a pickle file\n",
    "    \n",
    "    :param model: model CNN model\n",
    "    :param X_train: numpy array, train set\n",
    "    :param y_train: numpy array, test set\n",
    "    :param batch_size: integer, number of sample\n",
    "    :param image size: tuple, single image (height, width)\n",
    "    :param distance: String, type of distance to be used\n",
    "    \"\"\"\n",
    "    \n",
    "    dense_2_feature = []\n",
    "    dense_4_feature = []\n",
    "    \n",
    "    # calculate color features vectors for each image in the train data\n",
    "    color_feature = []\n",
    "    for img in X_train:\n",
    "        channels = cv2.split(img)\n",
    "        feature = []\n",
    "        for chan in channels:\n",
    "            hist = cv2.calcHist([chan], [0], None, [256], [0, 256])\n",
    "            feature.append(hist)\n",
    "        \n",
    "        color_feature.append(np.vstack(feature).squeeze())\n",
    "    \n",
    "    # iterate train set\n",
    "    for i in tqdm_notebook(range(len(X_train) // batch_size)):\n",
    "        start_id =  i * batch_size\n",
    "        end_id = start_id + batch_size\n",
    "        \n",
    "        X_batch = X_train[start_id: end_id]\n",
    "        _, dense_2, dense_4 = model(X_batch, training=False)\n",
    "        \n",
    "        dense_2_feature.append(dense_2)\n",
    "        dense_4_feature.append(dense_4)\n",
    "    \n",
    "    dense_2_feature = np.vstack(dense_2_feature)\n",
    "    dense_4_feature = np.vstack(dense_4_feature)\n",
    "    \n",
    "    # hamming distance - vector processing\n",
    "    if distance == \"hamming\":\n",
    "        dense_2_feature = np.where(dense_2_feature < 0.5, 0, 1)\n",
    "        dense_4_feature = np.where(dense_4_feature < 0.5, 0, 1)\n",
    "        \n",
    "        train_vectors = np.hstack((dense_2_feature, dense_4_feature))\n",
    "        with open(\"hamming_train.pickle\", \"wb\") as f:\n",
    "            pickle.dump(train_vectors, f)\n",
    "    \n",
    "    # cosine distance\n",
    "    elif distance == \"cosine\":\n",
    "        train_vectors = np.hstack((dense_2_feature, dense_4_feature))\n",
    "        train_vectors = np.hstack((train_vectors, color_feature[: len(train_vectors)]))\n",
    "        with open(\"cosine_train.pickle\", \"wb\") as f:\n",
    "            pickle.dump(train_vectors, f)\n",
    "\n",
    "    # save training set color feature vector to sparete pickle file\n",
    "    with open(\"color_featuer.pickle\", \"wb\") as f:\n",
    "        pickle.dump(color_feature[: len(train_vectors)], f)"
   ]
  },
  {
   "cell_type": "code",
   "execution_count": 61,
   "metadata": {},
   "outputs": [],
   "source": [
    "#Load the best mode\n",
    "model = tf.keras.models.load_model(os.path.join(\"saver\", \"model_epoch_2\"))"
   ]
  },
  {
   "cell_type": "code",
   "execution_count": 62,
   "metadata": {},
   "outputs": [
    {
     "data": {
      "application/vnd.jupyter.widget-view+json": {
       "model_id": "bba896a4f78e442eb410efc061400ee4",
       "version_major": 2,
       "version_minor": 0
      },
      "text/plain": [
       "HBox(children=(IntProgress(value=0, max=195), HTML(value='')))"
      ]
     },
     "metadata": {},
     "output_type": "display_data"
    },
    {
     "name": "stdout",
     "output_type": "stream",
     "text": [
      "\n"
     ]
    }
   ],
   "source": [
    "create_train_vector(model, X_train, y_train, batch_size, image_size)"
   ]
  },
  {
   "cell_type": "code",
   "execution_count": 63,
   "metadata": {},
   "outputs": [],
   "source": [
    "def compare_color(color_vector, upload_image, ids):\n",
    "    \"\"\"\n",
    "    Compare color vector of closest image from train set with a color vector of a upload image\n",
    "    \n",
    "    :param color_vector: color feature vector of closest train set image to the upload image\n",
    "    :param upload_image: color vector of upload image\n",
    "    param ids: indices of training image being closest to the upload image (output from a distance func)\n",
    "    \"\"\"\n",
    "    \n",
    "    color_distance = []\n",
    "    \n",
    "    for i in (range(len(color_vector))):\n",
    "        color_distance.append(euclidean(color_vector[i], upload_image))\n",
    "    \n",
    "    return ids[np.argsort(color_distance)[:10]]"
   ]
  },
  {
   "cell_type": "code",
   "execution_count": 64,
   "metadata": {},
   "outputs": [],
   "source": [
    "def inference(model, train_set_vector, upload_image_path, image_size, disance=\"hamming\"):\n",
    "    \"\"\"\n",
    "    doing simple inference for single upload image\n",
    "    \n",
    "    :param model: CNN model\n",
    "    :param train_set_vector: load train set vector\n",
    "    :param upload_image_path: String, path to upload image\n",
    "    :param image_size: tuple, (height, width)\n",
    "    :param distance: String, type of distance to used\n",
    "    \"\"\"\n",
    "    \n",
    "    image = image_load(upload_image_path,  image_size)\n",
    "    channel = cv2.split(image)\n",
    "    feature = []\n",
    "    \n",
    "    for cha in channel:\n",
    "        hist = cv2.calcHist([cha], [0], None, [256], [0, 256])\n",
    "        feature.append(hist)\n",
    "        \n",
    "    color_featuer = np.vstack(feature).T\n",
    "    \n",
    "    _, dense_2_features, dense_4_features = model(image, training=False)\n",
    "     \n",
    "    closest_id = None\n",
    "    \n",
    "    if distance == \"hamming\":\n",
    "        dense_2_features = np.where(dense_2_features < 0.5, 0, 1)\n",
    "        dense_4_features = np.where(dense_4_features < 0.5, 0, 1)\n",
    "        \n",
    "        upload_image_vector = np.hstack((dense_2_features, dense_4_features))\n",
    "        closest_id = hamming_distance(train_set_vector, upload_image_vector)\n",
    "    elif distance == \"cosine\":\n",
    "        upload_image_vector = np.hstack(train_set_vector, upload_image_vector)\n",
    "        closest_id = cosine_distance(train_set_vector, upload_image_vector)\n",
    "    return closest_id"
   ]
  },
  {
   "cell_type": "code",
   "execution_count": 100,
   "metadata": {},
   "outputs": [],
   "source": [
    "def inference_with_color_filter(model, train_set_vector, upload_image_path, color_vector, image_size, distance=\"hamming\"):\n",
    "    \n",
    "    \"\"\"\n",
    "    doing simple inference for single image\n",
    "     \n",
    "    :param model: CNN model\n",
    "    :param train_set_vector: loaded train set vector\n",
    "    :param upload_image_path: String, path to the load image\n",
    "    :param color_vector: train set vector feature vector\n",
    "    :param image_size: tuple, (height, width)\n",
    "    :param distance: string, type of distance\n",
    "    \"\"\"\n",
    "    \n",
    "    image = image_load(upload_image_path, image_size)\n",
    "    \n",
    "    # calculate color histgram of the query image\n",
    "    channel = cv2.split(image)\n",
    "    feature = []\n",
    "    \n",
    "    for chan in channel:\n",
    "        hist = cv2.calcHist([chan], [0], None, [256], [0, 256])\n",
    "        feature.append(hist)\n",
    "    \n",
    "    color_feature = np.vstack(feature).T\n",
    "    \n",
    "    image_input = np.expand_dims(image, axis=0).astype(\"float32\")\n",
    "    _, dense_2_feature, dense_4_feature = model(image_input, training=False)\n",
    "    \n",
    "    closest_ids = None\n",
    "    if distance == \"hamming\":\n",
    "\n",
    "        dense_2_feature = np.where(dense_2_feature < 0.5, 0, 1)\n",
    "        dense_4_feature = np.where(dense_4_feature < 0.5, 0, 1)\n",
    "        \n",
    "        upload_image_vector = np.hstack((dense_2_feature, dense_4_feature))\n",
    "        closest_id = hamming_distance(train_set_vector, upload_image_vector)\n",
    "        \n",
    "        # compare color feature between query image and closest image\n",
    "        closest_id  = compare_color(np.array(color_vector)[closest_id], color_feature, closest_id)\n",
    "\n",
    "    elif distance == \"cosine\":\n",
    "\n",
    "        upload_image_vector = np.hstack((dense_2_feature, dense_4_feature))\n",
    "        closest_id = cosine_distance(train_set_vector, upload_image_vector)\n",
    "\n",
    "        # compare color feature between query image and closest image\n",
    "        closest_id  = compare_color(np.array(color_vector)[closest_id], color_feature, closest_id)\n",
    "    return closest_id"
   ]
  },
  {
   "cell_type": "markdown",
   "metadata": {},
   "source": [
    " **Pipeline**"
   ]
  },
  {
   "cell_type": "code",
   "execution_count": 93,
   "metadata": {},
   "outputs": [],
   "source": [
    "# load train set image path\n",
    "with open(\"training_image_pickle.pickle\", \"rb\") as f:\n",
    "    train_image_path = pickle.load(f)"
   ]
  },
  {
   "cell_type": "code",
   "execution_count": 94,
   "metadata": {},
   "outputs": [
    {
     "data": {
      "text/plain": [
       "['dataset/train/32270_deer.png',\n",
       " 'dataset/train/21851_cat.png',\n",
       " 'dataset/train/48309_deer.png',\n",
       " 'dataset/train/33547_truck.png',\n",
       " 'dataset/train/45202_automobile.png',\n",
       " 'dataset/train/2789_bird.png',\n",
       " 'dataset/train/24517_horse.png',\n",
       " 'dataset/train/15193_frog.png',\n",
       " 'dataset/train/10817_ship.png',\n",
       " 'dataset/train/49897_ship.png']"
      ]
     },
     "execution_count": 94,
     "metadata": {},
     "output_type": "execute_result"
    }
   ],
   "source": [
    "train_image_path[:10]"
   ]
  },
  {
   "cell_type": "markdown",
   "metadata": {},
   "source": [
    "**load train set vector**\n"
   ]
  },
  {
   "cell_type": "code",
   "execution_count": 95,
   "metadata": {},
   "outputs": [],
   "source": [
    "with open(\"hamming_train.pickle\", \"rb\") as f:\n",
    "    train_set_vector = pickle.load(f)"
   ]
  },
  {
   "cell_type": "code",
   "execution_count": 97,
   "metadata": {},
   "outputs": [],
   "source": [
    "with open(\"color_featuer.pickle\", \"rb\") as f:\n",
    "    color_vector = pickle.load(f)"
   ]
  },
  {
   "cell_type": "code",
   "execution_count": 98,
   "metadata": {},
   "outputs": [],
   "source": [
    "test_image = 'dataset/test/1052_airplane.png'"
   ]
  },
  {
   "cell_type": "markdown",
   "metadata": {},
   "source": [
    "**get closest image**"
   ]
  },
  {
   "cell_type": "code",
   "execution_count": 109,
   "metadata": {},
   "outputs": [],
   "source": [
    "result_id = inference_with_color_filter(model, train_set_vector, test_image, color_vector, image_size, distance=\"hamming\")"
   ]
  },
  {
   "cell_type": "markdown",
   "metadata": {},
   "source": [
    "**show query image**"
   ]
  },
  {
   "cell_type": "code",
   "execution_count": 104,
   "metadata": {},
   "outputs": [
    {
     "data": {
      "text/plain": [
       "<matplotlib.image.AxesImage at 0x19e673350>"
      ]
     },
     "execution_count": 104,
     "metadata": {},
     "output_type": "execute_result"
    },
    {
     "data": {
      "image/png": "[encoded data removed]",
      "text/plain": [
       "<Figure size 432x288 with 1 Axes>"
      ]
     },
     "metadata": {
      "needs_background": "light"
     },
     "output_type": "display_data"
    }
   ],
   "source": [
    "plt.imshow(image_load(test_image, image_size))"
   ]
  },
  {
   "cell_type": "markdown",
   "metadata": {},
   "source": [
    "**show result image**"
   ]
  },
  {
   "cell_type": "code",
   "execution_count": 115,
   "metadata": {},
   "outputs": [
    {
     "data": {
      "image/png": "[encoded data removed]",
      "text/plain": [
       "<Figure size 1152x1152 with 9 Axes>"
      ]
     },
     "metadata": {
      "needs_background": "light"
     },
     "output_type": "display_data"
    }
   ],
   "source": [
    "w = 10\n",
    "h = 10\n",
    "fig = plt.figure(figsize=(16, 16))\n",
    "colum = 5\n",
    "rows = 5\n",
    "\n",
    "for i in range(1, colum*rows+1):\n",
    "    try:\n",
    "        image = image_load(train_image_path[result_id[i]], image_size)\n",
    "        fig.add_subplot(rows, colum, i)\n",
    "        plt.imshow(image)\n",
    "    except:\n",
    "        pass\n",
    "plt.show()"
   ]
  },
  {
   "cell_type": "code",
   "execution_count": null,
   "metadata": {},
   "outputs": [],
   "source": []
  }
 ],
 "metadata": {
  "kernelspec": {
   "display_name": "Python 3",
   "language": "python",
   "name": "python3"
  },
  "language_info": {
   "codemirror_mode": {
    "name": "ipython",
    "version": 3
   },
   "file_extension": ".py",
   "mimetype": "text/x-python",
   "name": "python",
   "nbconvert_exporter": "python",
   "pygments_lexer": "ipython3",
   "version": "3.7.5"
  }
 },
 "nbformat": 4,
 "nbformat_minor": 2
}
